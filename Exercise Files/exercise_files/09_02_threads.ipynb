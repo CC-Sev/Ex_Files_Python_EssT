{
 "cells": [
  {
   "cell_type": "code",
   "execution_count": 1,
   "id": "48a15793",
   "metadata": {
    "scrolled": true
   },
   "outputs": [],
   "source": [
    "import threading\n",
    "import time"
   ]
  },
  {
   "cell_type": "markdown",
   "id": "5be113b0",
   "metadata": {},
   "source": [
    "## Threads"
   ]
  },
  {
   "cell_type": "code",
   "execution_count": 2,
   "id": "230c796a",
   "metadata": {
    "scrolled": true
   },
   "outputs": [
    {
     "data": {
      "text/plain": [
       "[0, 1, 4, 9, 16]"
      ]
     },
     "execution_count": 2,
     "metadata": {},
     "output_type": "execute_result"
    }
   ],
   "source": [
    "def longSquare(num):\n",
    "    time.sleep(1)\n",
    "    return num**2\n",
    "\n",
    "[longSquare(n) for n in range(0, 5)]\n"
   ]
  },
  {
   "cell_type": "code",
   "execution_count": 3,
   "id": "f105891d",
   "metadata": {},
   "outputs": [],
   "source": [
    "t1 = threading.Thread(target=longSquare, args=(1,))\n",
    "t2 = threading.Thread(target=longSquare, args=(2,))\n",
    "\n",
    "t1.start()\n",
    "t2.start()\n",
    "\n",
    "t1.join()\n",
    "t2.join()\n"
   ]
  },
  {
   "cell_type": "code",
   "execution_count": 4,
   "id": "5be33021",
   "metadata": {},
   "outputs": [
    {
     "name": "stdout",
     "output_type": "stream",
     "text": [
      "{1: 1, 2: 4}\n"
     ]
    }
   ],
   "source": [
    "\n",
    "\n",
    "def longSquare(num, results):\n",
    "    time.sleep(1)\n",
    "    results[num] = num**2\n",
    "\n",
    "results = {}\n",
    "t1 = threading.Thread(target=longSquare, args=(1,results))\n",
    "t2 = threading.Thread(target=longSquare, args=(2,results))\n",
    "\n",
    "t1.start()\n",
    "t2.start()\n",
    "\n",
    "t1.join()\n",
    "t2.join()\n",
    "\n",
    "print(results)\n"
   ]
  },
  {
   "cell_type": "code",
   "execution_count": 5,
   "id": "6f9a6201",
   "metadata": {},
   "outputs": [
    {
     "name": "stdout",
     "output_type": "stream",
     "text": [
      "{0: 0, 2: 4, 1: 1, 3: 9, 4: 16, 11: 121, 6: 36, 7: 49, 8: 64, 12: 144, 15: 225, 5: 25, 9: 81, 14: 196, 13: 169, 10: 100, 16: 256, 17: 289, 24: 576, 23: 529, 20: 400, 21: 441, 25: 625, 26: 676, 27: 729, 28: 784, 29: 841, 31: 961, 18: 324, 19: 361, 30: 900, 22: 484, 32: 1024, 33: 1089, 35: 1225, 34: 1156, 36: 1296, 37: 1369, 38: 1444, 39: 1521, 41: 1681, 42: 1764, 45: 2025, 44: 1936, 49: 2401, 48: 2304, 40: 1600, 46: 2116, 43: 1849, 47: 2209, 50: 2500, 51: 2601, 70: 4900, 61: 3721, 52: 2704, 59: 3481, 56: 3136, 62: 3844, 65: 4225, 63: 3969, 67: 4489, 64: 4096, 71: 5041, 72: 5184, 74: 5476, 75: 5625, 73: 5329, 76: 5776, 82: 6724, 77: 5929, 79: 6241, 90: 8100, 55: 3025, 69: 4761, 68: 4624, 66: 4356, 58: 3364, 53: 2809, 60: 3600, 81: 6561, 80: 6400, 85: 7225, 83: 6889, 87: 7569, 89: 7921, 91: 8281, 94: 8836, 96: 9216, 93: 8649, 98: 9604, 86: 7396, 84: 7056, 97: 9409, 88: 7744, 54: 2916, 78: 6084, 92: 8464, 95: 9025, 99: 9801, 57: 3249}\n"
     ]
    }
   ],
   "source": [
    "\n",
    "\n",
    "def longSquare(num, results):\n",
    "    time.sleep(1)\n",
    "    results[num] = num**2\n",
    "\n",
    "results = {}\n",
    "threads = [threading.Thread(target=longSquare, args=(n, results)) for n in range(0, 100)]\n",
    "[t.start() for t in threads]\n",
    "[t.join() for t in threads]\n",
    "print(results)\n"
   ]
  },
  {
   "cell_type": "code",
   "execution_count": null,
   "id": "c63a0969",
   "metadata": {},
   "outputs": [],
   "source": []
  }
 ],
 "metadata": {
  "kernelspec": {
   "display_name": "Python 3 (ipykernel)",
   "language": "python",
   "name": "python3"
  },
  "language_info": {
   "codemirror_mode": {
    "name": "ipython",
    "version": 3
   },
   "file_extension": ".py",
   "mimetype": "text/x-python",
   "name": "python",
   "nbconvert_exporter": "python",
   "pygments_lexer": "ipython3",
   "version": "3.11.3"
  }
 },
 "nbformat": 4,
 "nbformat_minor": 5
}
